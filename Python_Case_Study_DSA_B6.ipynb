{
  "nbformat": 4,
  "nbformat_minor": 0,
  "metadata": {
    "colab": {
      "provenance": [],
      "include_colab_link": true
    },
    "kernelspec": {
      "name": "python3",
      "display_name": "Python 3"
    },
    "language_info": {
      "name": "python"
    }
  },
  "cells": [
    {
      "cell_type": "markdown",
      "metadata": {
        "id": "view-in-github",
        "colab_type": "text"
      },
      "source": [
        "<a href=\"https://colab.research.google.com/github/sanjufvr/sample_project/blob/main/Python_Case_Study_DSA_B6.ipynb\" target=\"_parent\"><img src=\"https://colab.research.google.com/assets/colab-badge.svg\" alt=\"Open In Colab\"/></a>"
      ]
    },
    {
      "cell_type": "markdown",
      "source": [
        "# Answer the following questions using only builtin Python datatypes and functions. Do not use Numpy or Scipy (i.e. No library imports allowed)"
      ],
      "metadata": {
        "id": "zVV_KMSIUG-A"
      }
    },
    {
      "cell_type": "markdown",
      "source": [
        "# Q1. Write a function that return the range (maximum and minimun) of a given list of numbers"
      ],
      "metadata": {
        "id": "uZnK7VgWV5SI"
      }
    },
    {
      "cell_type": "code",
      "source": [
        "list1=[20,40,60,50,80,70]\n",
        "list1.sort()\n",
        "print(\"smallest value is:\",list1[0])\n",
        "print(\"largest value is:\",list1[-1])"
      ],
      "metadata": {
        "id": "vuAbJQcOWAM7",
        "outputId": "60db919f-bfeb-4350-c945-59023bb1b219",
        "colab": {
          "base_uri": "https://localhost:8080/"
        }
      },
      "execution_count": null,
      "outputs": [
        {
          "output_type": "stream",
          "name": "stdout",
          "text": [
            "smallest value is: 20\n",
            "largest value is: 80\n"
          ]
        }
      ]
    },
    {
      "cell_type": "markdown",
      "source": [
        "## Q2. Write function that returns mean value of a list of numbers"
      ],
      "metadata": {
        "id": "Y5_v5a8_U1O-"
      }
    },
    {
      "cell_type": "code",
      "source": [
        "list1=[20,10,40,30,60,50]\n",
        "mean= sum(list1)/len(list1)\n",
        "print(mean)"
      ],
      "metadata": {
        "id": "-CILMs1jakPi",
        "outputId": "afab1b6f-6449-4179-c850-c1bc7ab5590f",
        "colab": {
          "base_uri": "https://localhost:8080/"
        }
      },
      "execution_count": null,
      "outputs": [
        {
          "output_type": "stream",
          "name": "stdout",
          "text": [
            "35.0\n"
          ]
        }
      ]
    },
    {
      "cell_type": "markdown",
      "source": [
        "# Q3. Write a function that returns the median value of a list of numbers"
      ],
      "metadata": {
        "id": "OpeRxoEoVTIP"
      }
    },
    {
      "cell_type": "code",
      "source": [
        "def get_median(data):\n",
        "  data.sort()\n",
        "  mid_index = len(data) // 2\n",
        "  if len(data) % 2 == 0:\n",
        "\n",
        "    median = (data[mid_index - 1] + data[mid_index]) / 2\n",
        "  else:\n",
        "\n",
        "    median = data[mid_index]\n",
        "  return median\n",
        "\n",
        "list2 = [20, 10, 40, 30, 60, 50]\n",
        "median_value = get_median(list2)\n",
        "print(median_value)"
      ],
      "metadata": {
        "colab": {
          "base_uri": "https://localhost:8080/"
        },
        "id": "lTA36D6RtfSM",
        "outputId": "8b306f67-7113-4308-f998-5a5d2326addb"
      },
      "execution_count": 2,
      "outputs": [
        {
          "output_type": "stream",
          "name": "stdout",
          "text": [
            "35.0\n"
          ]
        }
      ]
    },
    {
      "cell_type": "markdown",
      "source": [
        "## Q4. Write a function to return the mod of a list of numbers, if no mod exists, it should return None. If more than one mod exist, return the mod values as list"
      ],
      "metadata": {
        "id": "2EMOG7AZSqVn"
      }
    },
    {
      "cell_type": "code",
      "source": [
        "def get_mode(data):\n",
        "  counts = {}\n",
        "  for item in data:\n",
        "    counts[item] = counts.get(item, 0) + 1\n",
        "  max_count = 0\n",
        "  for count in counts.values():\n",
        "    if count > max_count:\n",
        "      max_count = count\n",
        "  if max_count == 1 and len(data) > 0:\n",
        "      return None\n",
        "\n",
        "  modes = [item for item, count in counts.items() if count == max_count]\n",
        "\n",
        "  if len(modes) == 0:\n",
        "    return None\n",
        "  elif len(modes) == 1:\n",
        "    return modes[0]\n",
        "  else:\n",
        "    return modes\n",
        "\n",
        "list3 = [1,2,3,4,5,6]\n",
        "print(get_mode(list3))"
      ],
      "metadata": {
        "colab": {
          "base_uri": "https://localhost:8080/"
        },
        "id": "8elKi8vEu60l",
        "outputId": "87cd688d-1d8a-4354-a837-b4e522a1c964"
      },
      "execution_count": 4,
      "outputs": [
        {
          "output_type": "stream",
          "name": "stdout",
          "text": [
            "None\n"
          ]
        }
      ]
    },
    {
      "cell_type": "markdown",
      "source": [
        "## Q5. Write function to compute a given percentile value (e.g. 90th percentile) of a list of numbers"
      ],
      "metadata": {
        "id": "LcqWwqtgTCiL"
      }
    },
    {
      "cell_type": "code",
      "source": [
        "def find_percentile(numbers, percentile):\n",
        "    if not numbers:\n",
        "        return None\n",
        "    numbers = sorted(numbers)\n",
        "    n = len(numbers)\n",
        "    rank = (percentile / 100) * (n - 1)\n",
        "    lower_index = int(rank)\n",
        "    upper_index = lower_index + 1\n",
        "    if upper_index >= n:\n",
        "        return numbers[lower_index]\n",
        "    fraction = rank - lower_index\n",
        "    return numbers[lower_index] + fraction * (numbers[upper_index] - numbers[lower_index])\n",
        "data = [10,20,30,40,50]\n",
        "percent = 90\n",
        "result = find_percentile(data, percent)\n",
        "print(f\"{percent}th percentile =\",result)"
      ],
      "metadata": {
        "colab": {
          "base_uri": "https://localhost:8080/"
        },
        "id": "UFolrn5tv2jI",
        "outputId": "f7a0b097-8cd9-4543-ce50-1fd6f980ff8b"
      },
      "execution_count": 5,
      "outputs": [
        {
          "output_type": "stream",
          "name": "stdout",
          "text": [
            "90th percentile = 46.0\n"
          ]
        }
      ]
    },
    {
      "cell_type": "markdown",
      "source": [
        "# Q6. Write a function that returns the lower bound of a list of numbers"
      ],
      "metadata": {
        "id": "N-TYHkDcWOfS"
      }
    },
    {
      "cell_type": "code",
      "source": [
        "def find_lower_bound(numbers):\n",
        "    if not numbers:\n",
        "        return None\n",
        "\n",
        "    numbers = sorted(numbers)\n",
        "    n = len(numbers)\n",
        "\n",
        "    def median(data):\n",
        "        length = len(data)\n",
        "        mid = length // 2\n",
        "        if length % 2 == 0:\n",
        "            return (data[mid - 1] + data[mid]) / 2\n",
        "        else:\n",
        "            return data[mid]\n",
        "\n",
        "    mid_index = n // 2\n",
        "    lower_half = numbers[:mid_index]\n",
        "    upper_half = numbers[mid_index:] if n % 2 == 0 else numbers[mid_index+1:]\n",
        "\n",
        "    Q1 = median(lower_half)\n",
        "    Q3 = median(upper_half)\n",
        "    IQR = Q3 - Q1\n",
        "    lower_bound = Q1 - 1.5 * IQR\n",
        "\n",
        "    return lower_bound\n",
        "\n",
        "data = [7, 11, 23, 42, -3, -21, 26, 30]\n",
        "lb = find_lower_bound(data)\n",
        "print(\"Lower Bound:\", lb)"
      ],
      "metadata": {
        "id": "Y-RKPdKuW5nx",
        "colab": {
          "base_uri": "https://localhost:8080/"
        },
        "outputId": "8df19960-317d-4726-c161-bc4a213cc1bb"
      },
      "execution_count": 6,
      "outputs": [
        {
          "output_type": "stream",
          "name": "stdout",
          "text": [
            "Lower Bound: -37.0\n"
          ]
        }
      ]
    },
    {
      "cell_type": "markdown",
      "source": [
        "## Q7. Write function to return any outliers from a given list of numbers, if no outliers present it should return None"
      ],
      "metadata": {
        "id": "5aHfaI_jThpX"
      }
    },
    {
      "cell_type": "code",
      "source": [
        "numbers = [15,20,35,40,50]\n",
        "\n",
        "\n",
        "def get_percentile(numbers, percentile):\n",
        "    numbers.sort()\n",
        "    n = len(numbers)\n",
        "    rank = (percentile / 100) * (n - 1)\n",
        "    lower_index = int(rank)\n",
        "    upper_index = lower_index + 1\n",
        "\n",
        "    if upper_index >= n:\n",
        "        return numbers[lower_index]\n",
        "\n",
        "    fraction = rank - lower_index\n",
        "    return numbers[lower_index] + fraction * (numbers[upper_index] - numbers[lower_index])\n",
        "\n",
        "\n",
        "def find_outliers(numbers):\n",
        "    if not numbers:\n",
        "        return None\n",
        "\n",
        "    q1 = get_percentile(numbers.copy(), 25)\n",
        "    q3 = get_percentile(numbers.copy(), 75)\n",
        "    iqr = q3 - q1\n",
        "    lower_bound = q1 - 1.5 * iqr\n",
        "    upper_bound = q3 + 1.5 * iqr\n",
        "\n",
        "    outliers = [x for x in numbers if x < lower_bound or x > upper_bound]\n",
        "    return outliers if outliers else None\n",
        "print(\"Outliers:\", find_outliers(numbers))\n",
        "\n"
      ],
      "metadata": {
        "id": "gG6-qzT7T0Si",
        "colab": {
          "base_uri": "https://localhost:8080/"
        },
        "outputId": "27bcba9d-b065-49e5-a803-466236acb00b"
      },
      "execution_count": 7,
      "outputs": [
        {
          "output_type": "stream",
          "name": "stdout",
          "text": [
            "Outliers: None\n"
          ]
        }
      ]
    },
    {
      "cell_type": "markdown",
      "source": [
        "##Q8. Write a function to return standard deviation of a list of numbers"
      ],
      "metadata": {
        "id": "jI9t-tcDT5EK"
      }
    },
    {
      "cell_type": "code",
      "source": [
        "numbers = [10, 12, 23, 23, 16, 23, 21, 16]\n",
        "\n",
        "def standard_deviation(numbers):\n",
        "    if not numbers:\n",
        "        return None\n",
        "\n",
        "    n = len(numbers)\n",
        "    mean = sum(numbers) / n\n",
        "\n",
        "    squared_diff_sum = 0\n",
        "    for num in numbers:\n",
        "        squared_diff_sum += (num - mean) ** 2\n",
        "\n",
        "    variance = squared_diff_sum / n\n",
        "    std_dev = variance ** 0.5\n",
        "    return std_dev\n",
        "print(\"Standard Deviation:\", standard_deviation(numbers))\n"
      ],
      "metadata": {
        "id": "MMU_cMlLUFxJ",
        "colab": {
          "base_uri": "https://localhost:8080/"
        },
        "outputId": "da727717-3661-4584-c76a-e2edd06e1fd9"
      },
      "execution_count": 8,
      "outputs": [
        {
          "output_type": "stream",
          "name": "stdout",
          "text": [
            "Standard Deviation: 4.898979485566356\n"
          ]
        }
      ]
    },
    {
      "cell_type": "markdown",
      "source": [
        "## Q9. Write function to compute and return Z-score values of a list of numbers"
      ],
      "metadata": {
        "id": "LufmQDJPURkM"
      }
    },
    {
      "cell_type": "code",
      "source": [
        "numbers = [10, 12, 23, 23, 16, 23, 21, 16]\n",
        "\n",
        "def mean_std(numbers):\n",
        "    n = len(numbers)\n",
        "    mean = sum(numbers) / n\n",
        "    squared_diffs = [(x - mean) ** 2 for x in numbers]\n",
        "    variance = sum(squared_diffs) / n\n",
        "    std_dev = variance ** 0.5\n",
        "    return mean, std_dev\n",
        "\n",
        "def z_scores(numbers):\n",
        "    if not numbers:\n",
        "        return None\n",
        "\n",
        "    mean, std_dev = mean_std(numbers)\n",
        "\n",
        "    if std_dev == 0:\n",
        "        return [0 for _ in numbers]\n",
        "\n",
        "    return [(x - mean) / std_dev for x in numbers]\n",
        "zs = z_scores(numbers)\n",
        "print(\"Z-scores:\", zs)\n"
      ],
      "metadata": {
        "id": "ml2qpSpFUYxV",
        "colab": {
          "base_uri": "https://localhost:8080/"
        },
        "outputId": "f4a8da62-cb70-4bbd-9d77-ead12d93e62e"
      },
      "execution_count": 9,
      "outputs": [
        {
          "output_type": "stream",
          "name": "stdout",
          "text": [
            "Z-scores: [-1.6329931618554523, -1.2247448713915892, 1.0206207261596576, 1.0206207261596576, -0.4082482904638631, 1.0206207261596576, 0.6123724356957946, -0.4082482904638631]\n"
          ]
        }
      ]
    },
    {
      "cell_type": "markdown",
      "source": [
        "## Q10. Write a function to compute and return the Pearson correlation coefficient value of two list of numbers"
      ],
      "metadata": {
        "id": "YQSNHIfxUb6s"
      }
    },
    {
      "cell_type": "code",
      "source": [
        "x_values = [1, 2, 3, 4, 5]\n",
        "y_values = [2, 4, 6, 8, 10]\n",
        "\n",
        "def pearson_correlation(x, y):\n",
        "    if not x or not y or len(x) != len(y):\n",
        "        return None\n",
        "\n",
        "    n = len(x)\n",
        "    mean_x = sum(x) / n\n",
        "    mean_y = sum(y) / n\n",
        "\n",
        "    numerator = 0\n",
        "    sum_sq_x = 0\n",
        "    sum_sq_y = 0\n",
        "\n",
        "    for i in range(n):\n",
        "        dx = x[i] - mean_x\n",
        "        dy = y[i] - mean_y\n",
        "        numerator += dx * dy\n",
        "        sum_sq_x += dx ** 2\n",
        "        sum_sq_y += dy ** 2\n",
        "\n",
        "    denominator = (sum_sq_x ** 0.5) * (sum_sq_y ** 0.5)\n",
        "\n",
        "    if denominator == 0:\n",
        "        return None\n",
        "\n",
        "    return numerator / denominator\n",
        "result = pearson_correlation(x_values, y_values)\n",
        "print(\"Pearson Correlation Coefficient:\", result)"
      ],
      "metadata": {
        "colab": {
          "base_uri": "https://localhost:8080/"
        },
        "id": "mieyApiF-9ug",
        "outputId": "185c3a25-7691-4a10-ad89-df30c73a102c"
      },
      "execution_count": 12,
      "outputs": [
        {
          "output_type": "stream",
          "name": "stdout",
          "text": [
            "Pearson Correlation Coefficient: 0.9999999999999998\n"
          ]
        }
      ]
    }
  ]
}