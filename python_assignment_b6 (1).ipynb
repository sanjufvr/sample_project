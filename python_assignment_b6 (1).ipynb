{
  "cells": [
    {
      "cell_type": "markdown",
      "id": "d2328cad",
      "metadata": {
        "id": "d2328cad"
      },
      "source": [
        "# Python Basics Assignment"
      ]
    },
    {
      "cell_type": "markdown",
      "id": "cb537954",
      "metadata": {
        "id": "cb537954"
      },
      "source": [
        "### Question 1\n",
        "Write a function to compute number of vowels in a string given as input"
      ]
    },
    {
      "cell_type": "code",
      "execution_count": 21,
      "id": "cf213ba2",
      "metadata": {
        "colab": {
          "base_uri": "https://localhost:8080/"
        },
        "id": "cf213ba2",
        "outputId": "5bd6459d-e9eb-4085-e19b-f7453342dcbe"
      },
      "outputs": [
        {
          "output_type": "stream",
          "name": "stdout",
          "text": [
            "5\n"
          ]
        }
      ],
      "source": [
        "# Your code here\n",
        "def count_vowels(string):\n",
        "    vowels = \"aeiouAEIOU\"\n",
        "    count = 0\n",
        "    for char in string:\n",
        "        if char in vowels:\n",
        "            count += 1\n",
        "    return count\n",
        "\n",
        "text=\"aeiou\"\n",
        "print(count_vowels(text))"
      ]
    },
    {
      "cell_type": "markdown",
      "id": "4eaff430",
      "metadata": {
        "id": "4eaff430"
      },
      "source": [
        "### Question 2\n",
        "Write a function that checks whether a number is prime."
      ]
    },
    {
      "cell_type": "code",
      "execution_count": 22,
      "id": "81934cf7",
      "metadata": {
        "colab": {
          "base_uri": "https://localhost:8080/"
        },
        "id": "81934cf7",
        "outputId": "8370b8aa-892e-46e0-b653-abc31be3bf65"
      },
      "outputs": [
        {
          "output_type": "stream",
          "name": "stdout",
          "text": [
            "False\n"
          ]
        }
      ],
      "source": [
        "def your_function_2(number):\n",
        "  if number < 2:\n",
        "    return False\n",
        "  for i in range(2, int(number**0.5) + 1):\n",
        "    if number % i == 0:\n",
        "      return False\n",
        "  return True\n",
        "print(your_function_2(10))"
      ]
    },
    {
      "cell_type": "markdown",
      "id": "5f061e50",
      "metadata": {
        "id": "5f061e50"
      },
      "source": [
        "### Question 3\n",
        "Write a function to return the maximum of two numbers."
      ]
    },
    {
      "cell_type": "code",
      "execution_count": 18,
      "id": "44e2a596",
      "metadata": {
        "colab": {
          "base_uri": "https://localhost:8080/"
        },
        "id": "44e2a596",
        "outputId": "47426525-cf3f-4933-9d46-08ac3df3fdb8"
      },
      "outputs": [
        {
          "output_type": "stream",
          "name": "stdout",
          "text": [
            "20\n"
          ]
        }
      ],
      "source": [
        "def max_of_two(x, y):\n",
        "    if x > y:\n",
        "        return x\n",
        "    else:\n",
        "        return y\n",
        "print(max_of_two(10,20))"
      ]
    },
    {
      "cell_type": "markdown",
      "id": "7513ca91",
      "metadata": {
        "id": "7513ca91"
      },
      "source": [
        "### Question 4\n",
        "Write a function to return the factorial of a number."
      ]
    },
    {
      "cell_type": "code",
      "source": [
        "def factorial(n):\n",
        "    if n == 0:\n",
        "        return 1\n",
        "    else:\n",
        "        return n * factorial(n-1)\n",
        "\n",
        "print(factorial(5))"
      ],
      "metadata": {
        "colab": {
          "base_uri": "https://localhost:8080/"
        },
        "id": "bXGME-6SIwaB",
        "outputId": "92ba5242-f38c-4691-d92d-96ea05eb6648"
      },
      "id": "bXGME-6SIwaB",
      "execution_count": 23,
      "outputs": [
        {
          "output_type": "stream",
          "name": "stdout",
          "text": [
            "120\n"
          ]
        }
      ]
    },
    {
      "cell_type": "markdown",
      "id": "9b942098",
      "metadata": {
        "id": "9b942098"
      },
      "source": [
        "### Question 5\n",
        "Write a function to reverse a string without string indexing."
      ]
    },
    {
      "cell_type": "code",
      "source": [
        "def reverse_string_no_indexing(s):\n",
        "    reversed_s = \"\"\n",
        "    for char in s:\n",
        "        reversed_s = char + reversed_s\n",
        "    return reversed_s\n",
        "my_string = \"hello\"\n",
        "reversed_string = reverse_string_no_indexing(my_string)\n",
        "reversed_string"
      ],
      "metadata": {
        "colab": {
          "base_uri": "https://localhost:8080/",
          "height": 35
        },
        "id": "cl26YdO2Jizo",
        "outputId": "51620f0d-d049-4721-9240-94b4f13e98ca"
      },
      "id": "cl26YdO2Jizo",
      "execution_count": 26,
      "outputs": [
        {
          "output_type": "execute_result",
          "data": {
            "text/plain": [
              "'olleh'"
            ],
            "application/vnd.google.colaboratory.intrinsic+json": {
              "type": "string"
            }
          },
          "metadata": {},
          "execution_count": 26
        }
      ]
    },
    {
      "cell_type": "markdown",
      "id": "1abd915b",
      "metadata": {
        "id": "1abd915b"
      },
      "source": [
        "### Question 6\n",
        "Write a function to check if a string is a palindrome."
      ]
    },
    {
      "cell_type": "code",
      "source": [
        "def is_palindrome(s):\n",
        "\n",
        "    s = s.replace(\" \", \"\").lower()\n",
        "    return s == s[::-1]\n",
        "\n",
        "print(is_palindrome(\"racecar\"))"
      ],
      "metadata": {
        "colab": {
          "base_uri": "https://localhost:8080/"
        },
        "id": "LoqV1Kt5J-0d",
        "outputId": "b1e24980-55c3-4c19-e454-114bbebd4e11"
      },
      "id": "LoqV1Kt5J-0d",
      "execution_count": 29,
      "outputs": [
        {
          "output_type": "stream",
          "name": "stdout",
          "text": [
            "True\n"
          ]
        }
      ]
    },
    {
      "cell_type": "markdown",
      "id": "5f2f3791",
      "metadata": {
        "id": "5f2f3791"
      },
      "source": [
        "### Question 7\n",
        "Write a function to count vowels in a string."
      ]
    },
    {
      "cell_type": "code",
      "source": [
        "def count_vowels(string):\n",
        "    vowels = \"aeiouAEIOU\"\n",
        "    count = 0\n",
        "    for char in string:\n",
        "        if char in vowels:\n",
        "            count += 1\n",
        "    return count\n",
        "text=\"aeiou\"\n",
        "print(count_vowels(text))"
      ],
      "metadata": {
        "colab": {
          "base_uri": "https://localhost:8080/"
        },
        "id": "bSsk6qwaKom5",
        "outputId": "8607c221-7f44-4f60-81e4-55ccaa3d4ef7"
      },
      "id": "bSsk6qwaKom5",
      "execution_count": 32,
      "outputs": [
        {
          "output_type": "stream",
          "name": "stdout",
          "text": [
            "5\n"
          ]
        }
      ]
    },
    {
      "cell_type": "markdown",
      "source": [
        "**Question 8**\n",
        "#write a function that returns the sum of a list"
      ],
      "metadata": {
        "id": "iWlutjVbLz_Q"
      },
      "id": "iWlutjVbLz_Q"
    },
    {
      "cell_type": "code",
      "source": [
        "def list_sum(input_list):\n",
        "\n",
        "  return sum(input_list)\n",
        "\n",
        "my_list = [1, 2, 3, 4, 5]\n",
        "total = list_sum(my_list)\n",
        "print(f\"The sum of the list is: {total}\")\n"
      ],
      "metadata": {
        "colab": {
          "base_uri": "https://localhost:8080/"
        },
        "id": "s2d31KgjMyP3",
        "outputId": "24365c80-d5c2-40fb-ea73-a7283e7faae3"
      },
      "id": "s2d31KgjMyP3",
      "execution_count": 33,
      "outputs": [
        {
          "output_type": "stream",
          "name": "stdout",
          "text": [
            "The sum of the list is: 15\n"
          ]
        }
      ]
    },
    {
      "cell_type": "markdown",
      "id": "f6682500",
      "metadata": {
        "id": "f6682500"
      },
      "source": [
        "### Question 9\n",
        "Write a function to find the smallest number in a list."
      ]
    },
    {
      "cell_type": "code",
      "execution_count": 34,
      "id": "6798a641",
      "metadata": {
        "colab": {
          "base_uri": "https://localhost:8080/"
        },
        "id": "6798a641",
        "outputId": "a2e5cf8c-b1b2-43ff-e38c-2408c305f8fc"
      },
      "outputs": [
        {
          "output_type": "stream",
          "name": "stdout",
          "text": [
            "The smallest number in the list is: 1\n"
          ]
        }
      ],
      "source": [
        "def find_smallest(numbers):\n",
        "\n",
        "  if not numbers:\n",
        "    return None\n",
        "\n",
        "  smallest = numbers[0]\n",
        "  for num in numbers:\n",
        "    if num < smallest:\n",
        "      smallest = num\n",
        "  return smallest\n",
        "  my_list = [5, 2, 8, 1, 9]\n",
        "smallest_number = find_smallest(my_list)\n",
        "print(f\"The smallest number in the list is: {smallest_number}\")"
      ]
    },
    {
      "cell_type": "markdown",
      "id": "fb11e683",
      "metadata": {
        "id": "fb11e683"
      },
      "source": [
        "### Question 10\n",
        "Write a function to remove duplicates from a list."
      ]
    },
    {
      "cell_type": "code",
      "execution_count": 35,
      "id": "7c53f88c",
      "metadata": {
        "colab": {
          "base_uri": "https://localhost:8080/"
        },
        "id": "7c53f88c",
        "outputId": "0a36d1f6-34cf-4362-c2b9-10b398e203a5"
      },
      "outputs": [
        {
          "output_type": "stream",
          "name": "stdout",
          "text": [
            "List with duplicates removed: [1, 2, 3, 4, 5]\n"
          ]
        }
      ],
      "source": [
        "def remove_duplicates(input_list):\n",
        "  return list(set(input_list))\n",
        "  my_list = [1, 2, 2, 3, 4, 4, 5]\n",
        "unique_list = remove_duplicates(my_list)\n",
        "print(f\"List with duplicates removed: {unique_list}\")"
      ]
    },
    {
      "cell_type": "markdown",
      "id": "9c380a5c",
      "metadata": {
        "id": "9c380a5c"
      },
      "source": [
        "### Question 11\n",
        "Write a function to sort a list in ascending order without using builtin sort function"
      ]
    },
    {
      "cell_type": "code",
      "execution_count": 36,
      "id": "8e43832f",
      "metadata": {
        "colab": {
          "base_uri": "https://localhost:8080/"
        },
        "id": "8e43832f",
        "outputId": "d33a94ca-11ec-4c23-e2fe-9bbeefbb4508"
      },
      "outputs": [
        {
          "output_type": "execute_result",
          "data": {
            "text/plain": [
              "[11, 12, 22, 25, 34, 64, 90]"
            ]
          },
          "metadata": {},
          "execution_count": 36
        }
      ],
      "source": [
        "def custom_sort(arr):\n",
        "\n",
        "  n = len(arr)\n",
        "\n",
        "  for i in range(n):\n",
        "\n",
        "    for j in range(0, n - i - 1):\n",
        "\n",
        "      if arr[j] > arr[j + 1]:\n",
        "        arr[j], arr[j + 1] = arr[j + 1], arr[j]\n",
        "  return arr\n",
        "\n",
        "my_list = [64, 34, 25, 12, 22, 11, 90]\n",
        "sorted_list = custom_sort(my_list.copy())\n",
        "sorted_list"
      ]
    },
    {
      "cell_type": "markdown",
      "id": "1270c91c",
      "metadata": {
        "id": "1270c91c"
      },
      "source": [
        "### Question 12\n",
        "Write a function that returns the length of a string."
      ]
    },
    {
      "cell_type": "code",
      "execution_count": 38,
      "id": "87f35472",
      "metadata": {
        "colab": {
          "base_uri": "https://localhost:8080/"
        },
        "id": "87f35472",
        "outputId": "c3090caa-3e42-4dfd-9be8-e008daa45dd9"
      },
      "outputs": [
        {
          "output_type": "execute_result",
          "data": {
            "text/plain": [
              "13"
            ]
          },
          "metadata": {},
          "execution_count": 38
        }
      ],
      "source": [
        "def string_length(s):\n",
        "  return len(s)\n",
        "my_string = \"Hello, World!\"\n",
        "length = string_length(my_string)\n",
        "length"
      ]
    },
    {
      "cell_type": "markdown",
      "id": "9a8e3d28",
      "metadata": {
        "id": "9a8e3d28"
      },
      "source": [
        "### Question 13\n",
        "Write a function to count words in a sentence."
      ]
    },
    {
      "cell_type": "code",
      "execution_count": 43,
      "id": "e6f996ef",
      "metadata": {
        "colab": {
          "base_uri": "https://localhost:8080/"
        },
        "id": "e6f996ef",
        "outputId": "dbd0b9c4-3877-4a9b-9051-5edd200ab0d1"
      },
      "outputs": [
        {
          "output_type": "execute_result",
          "data": {
            "text/plain": [
              "8"
            ]
          },
          "metadata": {},
          "execution_count": 43
        }
      ],
      "source": [
        "import re\n",
        "def count_words(sentence):\n",
        "  words = re.findall(r'\\b\\w+\\b', sentence)\n",
        "  return len(words)\n",
        "\n",
        "my_sentence = \"This is a sample sentence with 7 words.\"\n",
        "word_count = count_words(my_sentence)\n",
        "word_count"
      ]
    },
    {
      "cell_type": "markdown",
      "id": "430c2e4a",
      "metadata": {
        "id": "430c2e4a"
      },
      "source": [
        "### Question 14\n",
        "Write a function to convert Celsius to Fahrenheit."
      ]
    },
    {
      "cell_type": "code",
      "execution_count": 48,
      "id": "b710b0bd",
      "metadata": {
        "colab": {
          "base_uri": "https://localhost:8080/"
        },
        "id": "b710b0bd",
        "outputId": "1edf33d7-14fb-4f6a-a252-6be9be2b5061"
      },
      "outputs": [
        {
          "output_type": "stream",
          "name": "stdout",
          "text": [
            "212.0\n"
          ]
        }
      ],
      "source": [
        "def celsius_to_fahrenheit(celsius):\n",
        "\n",
        "  return (celsius * 9/5) + 32\n",
        "print(celsius_to_fahrenheit(100))"
      ]
    },
    {
      "cell_type": "markdown",
      "id": "acefe5e3",
      "metadata": {
        "id": "acefe5e3"
      },
      "source": [
        "### Question 15\n",
        "Write a function to check if a number is palindrome."
      ]
    },
    {
      "cell_type": "code",
      "execution_count": 50,
      "id": "b700abae",
      "metadata": {
        "colab": {
          "base_uri": "https://localhost:8080/"
        },
        "id": "b700abae",
        "outputId": "ecac8df9-1e54-4db4-e84c-36db549c4909"
      },
      "outputs": [
        {
          "output_type": "stream",
          "name": "stdout",
          "text": [
            "True\n"
          ]
        }
      ],
      "source": [
        "def is_palindrome(number):\n",
        "\n",
        "  return str(number) == str(number)[::-1]\n",
        "print(is_palindrome(12321))"
      ]
    },
    {
      "cell_type": "markdown",
      "id": "b63452cb",
      "metadata": {
        "id": "b63452cb"
      },
      "source": [
        "### Question 16\n",
        "Write a function to return all even numbers in a list."
      ]
    },
    {
      "cell_type": "code",
      "execution_count": 53,
      "id": "9d1fc968",
      "metadata": {
        "colab": {
          "base_uri": "https://localhost:8080/"
        },
        "id": "9d1fc968",
        "outputId": "29d22b0d-1f51-46a1-8c1c-58bf32b5e17f"
      },
      "outputs": [
        {
          "output_type": "stream",
          "name": "stdout",
          "text": [
            "[2, 4, 6, 8, 10]\n"
          ]
        }
      ],
      "source": [
        "def even_numbers(numbers):\n",
        "  even = []\n",
        "  for n in numbers:\n",
        "    if n % 2 == 0:\n",
        "      even.append(n)\n",
        "  return even\n",
        "print(even_numbers([1, 2, 3, 4, 5, 6, 7, 8, 9, 10]))"
      ]
    },
    {
      "cell_type": "markdown",
      "id": "aca524d9",
      "metadata": {
        "id": "aca524d9"
      },
      "source": [
        "### Question 17\n",
        "Write a function to return the nth Fibonacci number."
      ]
    },
    {
      "cell_type": "code",
      "execution_count": 55,
      "id": "97dc4e87",
      "metadata": {
        "colab": {
          "base_uri": "https://localhost:8080/"
        },
        "id": "97dc4e87",
        "outputId": "3a74ac68-d710-49fe-bfcc-26c40de4a5b7"
      },
      "outputs": [
        {
          "output_type": "stream",
          "name": "stdout",
          "text": [
            "13\n"
          ]
        }
      ],
      "source": [
        "def fibonacci(n):\n",
        "\n",
        "  if n <= 1:\n",
        "    return n\n",
        "  else:\n",
        "    return fibonacci(n-1) + fibonacci(n-2)\n",
        "print(fibonacci(7))"
      ]
    },
    {
      "cell_type": "markdown",
      "id": "29c847dc",
      "metadata": {
        "id": "29c847dc"
      },
      "source": [
        "### Question 18\n",
        "Write a function to calculate the average of a list."
      ]
    },
    {
      "cell_type": "code",
      "execution_count": 62,
      "id": "9adc9fd2",
      "metadata": {
        "colab": {
          "base_uri": "https://localhost:8080/"
        },
        "id": "9adc9fd2",
        "outputId": "93b90136-2298-41ae-a6af-b4da57cd3c43"
      },
      "outputs": [
        {
          "output_type": "execute_result",
          "data": {
            "text/plain": [
              "25.0"
            ]
          },
          "metadata": {},
          "execution_count": 62
        }
      ],
      "source": [
        "def list_average(nums):\n",
        "  if not nums:\n",
        "      return 0\n",
        "  return sum(nums) / len(nums)\n",
        "my_list = [10, 20, 30, 40]\n",
        "average = list_average(my_list)\n",
        "average"
      ]
    },
    {
      "cell_type": "markdown",
      "id": "420240fb",
      "metadata": {
        "id": "420240fb"
      },
      "source": [
        "### Question 19\n",
        "Write a function that returns a dictionary of character counts."
      ]
    },
    {
      "cell_type": "code",
      "execution_count": 67,
      "id": "95cafc54",
      "metadata": {
        "colab": {
          "base_uri": "https://localhost:8080/"
        },
        "id": "95cafc54",
        "outputId": "73c8522f-099e-4cad-da77-832df5ff6e0d"
      },
      "outputs": [
        {
          "output_type": "stream",
          "name": "stdout",
          "text": [
            "{'c': 1, 'a': 1, 't': 1}\n"
          ]
        }
      ],
      "source": [
        "def count_characters(text):\n",
        "  char_counts = {}\n",
        "  for char in text:\n",
        "    char_counts[char] = char_counts.get(char, 0) + 1\n",
        "  return char_counts\n",
        "\n",
        "text = \"cat\"\n",
        "char_counts = count_characters(text)\n",
        "print(char_counts)"
      ]
    },
    {
      "cell_type": "markdown",
      "id": "17629a07",
      "metadata": {
        "id": "17629a07"
      },
      "source": [
        "### Question 20\n",
        "Write a function that returns True if all list elements are unique."
      ]
    },
    {
      "cell_type": "code",
      "execution_count": 68,
      "id": "fe4f8820",
      "metadata": {
        "colab": {
          "base_uri": "https://localhost:8080/"
        },
        "id": "fe4f8820",
        "outputId": "e0945811-118e-4d24-b81f-6fae5bfd0155"
      },
      "outputs": [
        {
          "output_type": "stream",
          "name": "stdout",
          "text": [
            "True\n"
          ]
        }
      ],
      "source": [
        "def check_if_all_unique(list_of_elements):\n",
        "  if len(list_of_elements) == len(set(list_of_elements)):\n",
        "    return True\n",
        "  else:\n",
        "    return False\n",
        "print(check_if_all_unique([1, 2, 3, 4, 5]))"
      ]
    },
    {
      "cell_type": "markdown",
      "id": "91dc87b9",
      "metadata": {
        "id": "91dc87b9"
      },
      "source": [
        "### Question 21\n",
        "Write a function that returns dot product of two list of numbers"
      ]
    },
    {
      "cell_type": "code",
      "execution_count": 70,
      "id": "87c3fa4b",
      "metadata": {
        "colab": {
          "base_uri": "https://localhost:8080/"
        },
        "id": "87c3fa4b",
        "outputId": "70e187f1-b394-4ffa-8192-1496d351847e"
      },
      "outputs": [
        {
          "output_type": "execute_result",
          "data": {
            "text/plain": [
              "32"
            ]
          },
          "metadata": {},
          "execution_count": 70
        }
      ],
      "source": [
        "def dot_product(list1, list2):\n",
        "\n",
        "  if len(list1) != len(list2):\n",
        "    print(\"Lists must be of the same length to calculate the dot product.\")\n",
        "    return None\n",
        "\n",
        "  dot_prod = 0\n",
        "  for i in range(len(list1)):\n",
        "    dot_prod += list1[i] * list2[i]\n",
        "\n",
        "  return dot_prod\n",
        "list1 = [1, 2, 3]\n",
        "list2 = [4, 5, 6]\n",
        "dot_prod = dot_product(list1, list2)\n",
        "dot_prod"
      ]
    },
    {
      "cell_type": "markdown",
      "id": "5eeb0527",
      "metadata": {
        "id": "5eeb0527"
      },
      "source": [
        "### Question 22\n",
        "Write a function that returns the projection of vector a onto vector b. Both a and b are given as list of numbers"
      ]
    },
    {
      "cell_type": "code",
      "execution_count": 72,
      "id": "d2c2439f",
      "metadata": {
        "colab": {
          "base_uri": "https://localhost:8080/"
        },
        "id": "d2c2439f",
        "outputId": "c028d352-5609-49f2-fa34-a875e41ffd65"
      },
      "outputs": [
        {
          "output_type": "stream",
          "name": "stdout",
          "text": [
            "[3. 0.]\n"
          ]
        }
      ],
      "source": [
        "import numpy as np\n",
        "\n",
        "def vector_projection(a, b):\n",
        "\n",
        "  a = np.array(a)\n",
        "  b = np.array(b)\n",
        "  if np.linalg.norm(b) == 0:\n",
        "    raise ValueError(\"Cannot project onto the zero vector.\")\n",
        "  return (np.dot(a, b) / np.dot(b, b)) * b\n",
        "\n",
        "\n",
        "a = [3, 4]\n",
        "b = [1, 0]\n",
        "projection = vector_projection(a, b)\n",
        "print(projection)"
      ]
    },
    {
      "cell_type": "markdown",
      "id": "1410b385",
      "metadata": {
        "id": "1410b385"
      },
      "source": [
        "### Question 23\n",
        "Write a function to return common elements between two lists."
      ]
    },
    {
      "cell_type": "code",
      "execution_count": 73,
      "id": "2cee584c",
      "metadata": {
        "colab": {
          "base_uri": "https://localhost:8080/"
        },
        "id": "2cee584c",
        "outputId": "8690ad30-c9bc-44d5-e948-e30aea6c7569"
      },
      "outputs": [
        {
          "output_type": "execute_result",
          "data": {
            "text/plain": [
              "[4, 5]"
            ]
          },
          "metadata": {},
          "execution_count": 73
        }
      ],
      "source": [
        "def common_elements(list1, list2):\n",
        "\n",
        "  return list(set(list1) & set(list2))\n",
        "\n",
        "list_a = [1, 2, 3, 4, 5]\n",
        "list_b = [4, 5, 6, 7, 8]\n",
        "common = common_elements(list_a, list_b)\n",
        "common"
      ]
    },
    {
      "cell_type": "markdown",
      "id": "23ab5210",
      "metadata": {
        "id": "23ab5210"
      },
      "source": [
        "### Question 24\n",
        "Create a class Vector that supports addition, dot product, and magnitude."
      ]
    },
    {
      "cell_type": "code",
      "source": [
        "import math\n",
        "\n",
        "class Vector:\n",
        "    def __init__(self, *components):\n",
        "        self.components = tuple(components)\n",
        "\n",
        "    def __add__(self, other):\n",
        "        if len(self.components) != len(other.components):\n",
        "            raise ValueError(\"Vectors must have the same dimension for addition\")\n",
        "        return Vector(*(c1 + c2 for c1, c2 in zip(self.components, other.components)))\n",
        "\n",
        "    def dot(self, other):\n",
        "        if len(self.components) != len(other.components):\n",
        "            raise ValueError(\"Vectors must have the same dimension for dot product\")\n",
        "        return sum(c1 * c2 for c1, c2 in zip(self.components, other.components))\n",
        "\n",
        "    def magnitude(self):\n",
        "        return math.sqrt(sum(c**2 for c in self.components))\n",
        "\n",
        "    def __repr__(self):\n",
        "        return f\"Vector({', '.join(map(str, self.components))})\"\n",
        "\n",
        "    def __str__(self):\n",
        "        return f\"({', '.join(map(str, self.components))})\"\n",
        "v1 = Vector(1, 2, 3)\n",
        "v2 = Vector(4, 5, 6)\n",
        "print(v1 + v2)\n",
        "print(v1.dot(v2))\n",
        "print(v1.magnitude())"
      ],
      "metadata": {
        "colab": {
          "base_uri": "https://localhost:8080/"
        },
        "id": "BEhTFKX3g8l3",
        "outputId": "853b3087-73e7-454a-96f6-78df163f2dbf"
      },
      "id": "BEhTFKX3g8l3",
      "execution_count": 81,
      "outputs": [
        {
          "output_type": "stream",
          "name": "stdout",
          "text": [
            "(5, 7, 9)\n",
            "32\n",
            "3.7416573867739413\n"
          ]
        }
      ]
    },
    {
      "cell_type": "markdown",
      "id": "a0621aba",
      "metadata": {
        "id": "a0621aba"
      },
      "source": [
        "### Question 25\n",
        "Implement a function to return all outliers in a list based on the IQR method."
      ]
    },
    {
      "cell_type": "code",
      "execution_count": 82,
      "id": "460a8994",
      "metadata": {
        "colab": {
          "base_uri": "https://localhost:8080/"
        },
        "id": "460a8994",
        "outputId": "92b4c690-4492-4f9f-8ba9-2dc981606d3a"
      },
      "outputs": [
        {
          "output_type": "execute_result",
          "data": {
            "text/plain": [
              "[100]"
            ]
          },
          "metadata": {},
          "execution_count": 82
        }
      ],
      "source": [
        "def iqr_outliers(data):\n",
        "\n",
        "    sorted_data = sorted(data)\n",
        "\n",
        "\n",
        "    n = len(sorted_data)\n",
        "    q1_index = (n + 1) // 4 - 1\n",
        "    q3_index = (3 * (n + 1)) // 4 - 1\n",
        "\n",
        "    q1 = sorted_data[q1_index]\n",
        "    q3 = sorted_data[q3_index]\n",
        "\n",
        "\n",
        "    iqr = q3 - q1\n",
        "\n",
        "\n",
        "    lower_bound = q1 - 1.5 * iqr\n",
        "    upper_bound = q3 + 1.5 * iqr\n",
        "\n",
        "    outliers = []\n",
        "    for x in data:\n",
        "        if x < lower_bound or x > upper_bound:\n",
        "            outliers.append(x)\n",
        "\n",
        "    return outliers\n",
        "\n",
        "\n",
        "data = [1, 2, 3, 4, 5, 6, 7, 8, 9, 10, 100]\n",
        "outliers = iqr_outliers(data)\n",
        "outliers\n"
      ]
    },
    {
      "cell_type": "markdown",
      "id": "f0be510e",
      "metadata": {
        "id": "f0be510e"
      },
      "source": [
        "### Question 26\n",
        "Function with default arguments:\n",
        "Create a function to compute variance with an option to use sample or population formula"
      ]
    },
    {
      "cell_type": "code",
      "source": [
        "def calculate_variance(data, sample=True):\n",
        "\n",
        "  n = len(data)\n",
        "  if n == 0:\n",
        "    return 0.0\n",
        "\n",
        "  mean = sum(data) / n\n",
        "  squared_diffs = [(x - mean) ** 2 for x in data]\n",
        "\n",
        "  if sample:\n",
        "    if n < 2:\n",
        "      raise ValueError(\"Sample variance requires at least two data points.\")\n",
        "    return sum(squared_diffs) / (n - 1)\n",
        "  else:\n",
        "    return sum(squared_diffs) / n\n",
        "\n",
        "data1 = [1, 2, 3, 4, 5]\n",
        "print(f\"Sample Variance: {calculate_variance(data1)}\")\n",
        "print(f\"Population Variance: {calculate_variance(data1, sample=False)}\")\n",
        "\n",
        "data2 = [10, 15, 20, 25, 30]\n",
        "print(f\"Sample Variance: {calculate_variance(data2)}\")\n",
        "print(f\"Population Variance: {calculate_variance(data2, sample=False)}\")\n"
      ],
      "metadata": {
        "colab": {
          "base_uri": "https://localhost:8080/"
        },
        "id": "lauWM7aIjvj6",
        "outputId": "a67cc4de-4205-441b-a665-87cf4730ebdc"
      },
      "id": "lauWM7aIjvj6",
      "execution_count": 84,
      "outputs": [
        {
          "output_type": "stream",
          "name": "stdout",
          "text": [
            "Sample Variance: 2.5\n",
            "Population Variance: 2.0\n",
            "Sample Variance: 62.5\n",
            "Population Variance: 50.0\n"
          ]
        }
      ]
    },
    {
      "cell_type": "markdown",
      "id": "c39be0f1",
      "metadata": {
        "id": "c39be0f1"
      },
      "source": [
        "### Question 27\n",
        "Create a list of squares of even numbers between 1 and 20 using list comprehension."
      ]
    },
    {
      "cell_type": "code",
      "execution_count": 85,
      "id": "9e4ba74a",
      "metadata": {
        "colab": {
          "base_uri": "https://localhost:8080/"
        },
        "id": "9e4ba74a",
        "outputId": "95224485-a34c-4ded-d955-cf4d79078f88"
      },
      "outputs": [
        {
          "output_type": "execute_result",
          "data": {
            "text/plain": [
              "[4, 16, 36, 64, 100, 144, 196, 256, 324, 400]"
            ]
          },
          "metadata": {},
          "execution_count": 85
        }
      ],
      "source": [
        "squares = [x**2 for x in range(2, 21, 2)]\n",
        "squares"
      ]
    },
    {
      "cell_type": "markdown",
      "id": "b43c266d",
      "metadata": {
        "id": "b43c266d"
      },
      "source": [
        "### Question 28\n",
        "Write a function that returns the L1 and L2 norms of a vector given as list"
      ]
    },
    {
      "cell_type": "code",
      "execution_count": 86,
      "id": "4f5dc876",
      "metadata": {
        "colab": {
          "base_uri": "https://localhost:8080/"
        },
        "id": "4f5dc876",
        "outputId": "928d3901-9c58-4c77-8694-e35ffd474b8c"
      },
      "outputs": [
        {
          "output_type": "stream",
          "name": "stdout",
          "text": [
            "L1 norm: 15.0\n",
            "L2 norm: 7.416198487095663\n"
          ]
        }
      ],
      "source": [
        "\n",
        "import numpy as np\n",
        "\n",
        "def vector_norms(vector):\n",
        "  \"\"\"\n",
        "  Calculates the L1 and L2 norms of a vector.\n",
        "\n",
        "  Args:\n",
        "    vector: A list or NumPy array representing the vector.\n",
        "\n",
        "  Returns:\n",
        "    A tuple containing the L1 norm and L2 norm of the vector.\n",
        "  \"\"\"\n",
        "  vec = np.array(vector)\n",
        "  l1_norm = np.linalg.norm(vec, ord=1)\n",
        "  l2_norm = np.linalg.norm(vec, ord=2)\n",
        "  return l1_norm, l2_norm\n",
        "\n",
        "\n",
        "my_vector = [1, -2, 3, -4, 5]\n",
        "l1, l2 = vector_norms(my_vector)\n",
        "print(f\"L1 norm: {l1}\")\n",
        "print(f\"L2 norm: {l2}\")\n"
      ]
    },
    {
      "cell_type": "markdown",
      "id": "2007915f",
      "metadata": {
        "id": "2007915f"
      },
      "source": [
        "### Question 29\n",
        "Write a function that computes the 95% confidence interval for the mean of a list of numbers assuming normal distribution."
      ]
    },
    {
      "cell_type": "code",
      "execution_count": 88,
      "id": "8634dc63",
      "metadata": {
        "colab": {
          "base_uri": "https://localhost:8080/"
        },
        "id": "8634dc63",
        "outputId": "28a5a301-4441-40b5-fa7f-22a9ea67bf94"
      },
      "outputs": [
        {
          "output_type": "stream",
          "name": "stdout",
          "text": [
            "95% Confidence Interval for the mean: (3.6234428687975773, 7.376557131202423)\n",
            "95% Confidence Interval for the mean: (0.52, 2.48)\n",
            "Confidence interval requires at least two data points.\n"
          ]
        }
      ],
      "source": [
        "def confidence_interval_mean(data):\n",
        "    n = len(data)\n",
        "    if n < 2:\n",
        "        raise ValueError(\"Confidence interval requires at least two data points.\")\n",
        "\n",
        "\n",
        "    mean = sum(data) / n\n",
        "    sum_squared_diffs = sum([(x - mean) ** 2 for x in data])\n",
        "    sample_std_dev = (sum_squared_diffs / (n - 1)) ** 0.5\n",
        "    z_score_95 = 1.96\n",
        "    margin_of_error = z_score_95 * (sample_std_dev / (n ** 0.5))\n",
        "    lower_bound = mean - margin_of_error\n",
        "    upper_bound = mean + margin_of_error\n",
        "\n",
        "    return (lower_bound, upper_bound)\n",
        "data = [1, 2, 3, 4, 5, 6, 7, 8, 9, 10]\n",
        "try:\n",
        "    ci = confidence_interval_mean(data)\n",
        "    print(f\"95% Confidence Interval for the mean: {ci}\")\n",
        "except ValueError as e:\n",
        "    print(e)\n",
        "\n",
        "data_small = [1, 2]\n",
        "try:\n",
        "    ci_small = confidence_interval_mean(data_small)\n",
        "    print(f\"95% Confidence Interval for the mean: {ci_small}\")\n",
        "except ValueError as e:\n",
        "    print(e)\n",
        "\n",
        "data_single = [5]\n",
        "try:\n",
        "    ci_single = confidence_interval_mean(data_single)\n",
        "    print(f\"95% Confidence Interval for the mean: {ci_single}\")\n",
        "except ValueError as e:\n",
        "    print(e)"
      ]
    },
    {
      "cell_type": "markdown",
      "id": "08df3afb",
      "metadata": {
        "id": "08df3afb"
      },
      "source": [
        "### Question 30\n",
        "Given a list of categorical values, create a frequency distribution dictionary."
      ]
    },
    {
      "cell_type": "code",
      "execution_count": 87,
      "id": "c9b88531",
      "metadata": {
        "colab": {
          "base_uri": "https://localhost:8080/"
        },
        "id": "c9b88531",
        "outputId": "290e0ce7-b762-4d3a-fa66-ab2fc26fecec"
      },
      "outputs": [
        {
          "output_type": "execute_result",
          "data": {
            "text/plain": [
              "Counter({'apple': 3, 'banana': 2, 'orange': 1})"
            ]
          },
          "metadata": {},
          "execution_count": 87
        }
      ],
      "source": [
        "from collections import Counter\n",
        "\n",
        "def frequency_distribution(data):\n",
        "\n",
        "  return Counter(data)\n",
        "\n",
        "# Example usage:\n",
        "my_list = [\"apple\", \"banana\", \"apple\", \"orange\", \"banana\", \"apple\"]\n",
        "freq_dict = frequency_distribution(my_list)\n",
        "freq_dict"
      ]
    }
  ],
  "metadata": {
    "language_info": {
      "name": "python"
    },
    "colab": {
      "provenance": []
    },
    "kernelspec": {
      "name": "python3",
      "display_name": "Python 3"
    }
  },
  "nbformat": 4,
  "nbformat_minor": 5
}